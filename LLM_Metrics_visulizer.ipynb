{
 "cells": [
  {
   "cell_type": "code",
   "execution_count": 5,
   "id": "e25693d2",
   "metadata": {},
   "outputs": [
    {
     "ename": "ModuleNotFoundError",
     "evalue": "No module named 'numpy'",
     "output_type": "error",
     "traceback": [
      "\u001b[1;31m---------------------------------------------------------------------------\u001b[0m",
      "\u001b[1;31mModuleNotFoundError\u001b[0m                       Traceback (most recent call last)",
      "Cell \u001b[1;32mIn[5], line 1\u001b[0m\n\u001b[1;32m----> 1\u001b[0m \u001b[38;5;28;01mimport\u001b[39;00m \u001b[38;5;21;01mnumpy\u001b[39;00m \u001b[38;5;28;01mas\u001b[39;00m \u001b[38;5;21;01mnp\u001b[39;00m \n\u001b[0;32m      2\u001b[0m \u001b[38;5;28;01mimport\u001b[39;00m \u001b[38;5;21;01mmatplotlib\u001b[39;00m\u001b[38;5;21;01m.\u001b[39;00m\u001b[38;5;21;01mpyplot\u001b[39;00m \u001b[38;5;28;01mas\u001b[39;00m \u001b[38;5;21;01mplt\u001b[39;00m \n\u001b[0;32m      4\u001b[0m barWidth \u001b[38;5;241m=\u001b[39m \u001b[38;5;241m0.25\u001b[39m\n",
      "\u001b[1;31mModuleNotFoundError\u001b[0m: No module named 'numpy'"
     ]
    }
   ],
   "source": [
    "import numpy as np \n",
    "import matplotlib.pyplot as plt \n",
    "\n",
    "barWidth = 0.25\n",
    "fig = plt.subplots(figsize =(12, 8)) \n",
    "\n",
    "IT = [12, 30, 1, 8, 22] \n",
    "ECE = [28, 6, 16, 5, 10] \n",
    "CSE = [29, 3, 24, 25, 17] \n",
    "\n",
    "br1 = np.arange(len(IT)) \n",
    "br2 = [x + barWidth for x in br1] \n",
    "br3 = [x + barWidth for x in br2] \n",
    "\n",
    "plt.bar(br1, IT, color ='r', width = barWidth, \n",
    "        edgecolor ='grey', label ='IT') \n",
    "plt.bar(br2, ECE, color ='g', width = barWidth, \n",
    "        edgecolor ='grey', label ='ECE') \n",
    "plt.bar(br3, CSE, color ='b', width = barWidth, \n",
    "        edgecolor ='grey', label ='CSE') \n",
    "\n",
    "plt.xlabel('Branch', fontweight ='bold', fontsize = 15) \n",
    "plt.ylabel('Students passed', fontweight ='bold', fontsize = 15) \n",
    "plt.xticks([r + barWidth for r in range(len(IT))], \n",
    "        ['2015', '2016', '2017', '2018', '2019'])\n",
    "\n",
    "plt.legend()\n",
    "plt.show()"
   ]
  }
 ],
 "metadata": {
  "kernelspec": {
   "display_name": "Python 3",
   "language": "python",
   "name": "python3"
  },
  "language_info": {
   "codemirror_mode": {
    "name": "ipython",
    "version": 3
   },
   "file_extension": ".py",
   "mimetype": "text/x-python",
   "name": "python",
   "nbconvert_exporter": "python",
   "pygments_lexer": "ipython3",
   "version": "3.11.9"
  }
 },
 "nbformat": 4,
 "nbformat_minor": 5
}
